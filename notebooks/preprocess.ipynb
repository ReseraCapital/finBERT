{
 "cells": [
  {
   "cell_type": "code",
   "execution_count": 21,
   "metadata": {},
   "outputs": [],
   "source": [
    "import pandas as pd\n",
    "from sklearn.model_selection import train_test_split"
   ]
  },
  {
   "cell_type": "code",
   "execution_count": 4,
   "metadata": {},
   "outputs": [],
   "source": [
    "# pd.read_csv('../data/sentiment_data/FinancialPhraseBank-v1.0/Sentences_AllAgree.txt')"
   ]
  },
  {
   "cell_type": "code",
   "execution_count": 17,
   "metadata": {},
   "outputs": [
    {
     "name": "stdout",
     "output_type": "stream",
     "text": [
      "4217\n"
     ]
    }
   ],
   "source": [
    "DATA_FILE_PATH = '../data/sentiment_data/FinancialPhraseBank-v1.0/Sentences_66Agree.txt'\n",
    "\n",
    "with open(DATA_FILE_PATH, 'r') as f:\n",
    "    content = f.readlines()\n",
    "    \n",
    "print(len(content))"
   ]
  },
  {
   "cell_type": "code",
   "execution_count": 55,
   "metadata": {},
   "outputs": [],
   "source": [
    "df = pd.DataFrame(columns=['sentence', 'sentiment'])\n",
    "sentiment_conversion = {'positive': 1, 'neutral': 0, 'negative': -1}\n",
    "\n",
    "for c in content:\n",
    "    sentence = c.split(\"@\",1)[0].strip()\n",
    "    sentiment_string = c.split('@', 1)[1].strip()\n",
    "    sentiment_score = sentiment_conversion[sentiment_string]\n",
    "    df = df.append({'sentence': sentence, 'sentiment': sentiment_string}, ignore_index=True)"
   ]
  },
  {
   "cell_type": "code",
   "execution_count": 56,
   "metadata": {},
   "outputs": [],
   "source": [
    "X_train, X_test, y_train, y_test = train_test_split(df['sentence'], df['sentiment'], test_size=0.2, random_state=1)\n",
    "\n",
    "X_train, X_val, y_train, y_val = train_test_split(X_train, y_train, test_size=0.25, random_state=1)"
   ]
  },
  {
   "cell_type": "code",
   "execution_count": 57,
   "metadata": {},
   "outputs": [],
   "source": [
    "df_train = pd.DataFrame(columns=['sentence', 'sentiment'])\n",
    "for index, row in X_train.items():\n",
    "    df_train = df_train.append({'sentence': X_train[index], 'sentiment': y_train[index]}, ignore_index=True)"
   ]
  },
  {
   "cell_type": "code",
   "execution_count": 58,
   "metadata": {},
   "outputs": [],
   "source": [
    "df_test = pd.DataFrame(columns=['sentence', 'sentiment'])\n",
    "for index, row in X_test.items():\n",
    "    df_test = df_test.append({'sentence': X_test[index], 'sentiment': y_test[index]}, ignore_index=True)"
   ]
  },
  {
   "cell_type": "code",
   "execution_count": 59,
   "metadata": {},
   "outputs": [],
   "source": [
    "df_val = pd.DataFrame(columns=['sentence', 'sentiment'])\n",
    "for index, row in X_val.items():\n",
    "    df_val = df_val.append({'sentence': X_val[index], 'sentiment': y_val[index]}, ignore_index=True)"
   ]
  },
  {
   "cell_type": "code",
   "execution_count": 63,
   "metadata": {},
   "outputs": [],
   "source": [
    "df_train.to_csv('../data/sentiment_data/train.csv', header=False, index=False)#,sep=\"\\t\")\n",
    "df_test.to_csv('../data/sentiment_data/test.csv', header=False, index=False)#, sep=\"\\t\")\n",
    "df_val.to_csv('../data/sentiment_data/validation.csv', header=False, index=False)#, sep=\"\\t\")"
   ]
  }
 ],
 "metadata": {
  "kernelspec": {
   "display_name": "finbert",
   "language": "python",
   "name": "finbert"
  },
  "language_info": {
   "codemirror_mode": {
    "name": "ipython",
    "version": 3
   },
   "file_extension": ".py",
   "mimetype": "text/x-python",
   "name": "python",
   "nbconvert_exporter": "python",
   "pygments_lexer": "ipython3",
   "version": "3.7.3"
  }
 },
 "nbformat": 4,
 "nbformat_minor": 4
}
